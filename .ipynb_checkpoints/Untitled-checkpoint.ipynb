{
 "cells": [
  {
   "cell_type": "markdown",
   "id": "e96b4fd4",
   "metadata": {},
   "source": [
    "# Imports"
   ]
  },
  {
   "cell_type": "markdown",
   "id": "4917064f",
   "metadata": {
    "ExecuteTime": {
     "end_time": "2022-06-25T18:08:17.145684Z",
     "start_time": "2022-06-25T18:08:17.142763Z"
    }
   },
   "source": [
    "## Helper Functions"
   ]
  },
  {
   "cell_type": "code",
   "execution_count": 49,
   "id": "aa7778c2",
   "metadata": {
    "ExecuteTime": {
     "end_time": "2022-06-27T12:58:25.468112Z",
     "start_time": "2022-06-27T12:58:25.459439Z"
    }
   },
   "outputs": [],
   "source": [
    "import pandas as pd\n",
    "pd.set_option('display.float_format', lambda x: '%.2f' % x)\n",
    "import numpy as np\n",
    "from matplotlib import pyplot as plt\n",
    "from matplotlib import gridspec\n",
    "from IPython.display import display\n",
    "import seaborn as sns\n",
    "import os\n",
    "import inflection\n",
    "import math\n",
    "from datetime import datetime as dt\n",
    "\n",
    "def jupyter_settings():\n",
    "    %matplotlib inline\n",
    "    %pylab inline\n",
    "    plt.style.use('ggplot')\n",
    "    plt.rcParams['figure.figsize'] = (25,12)\n",
    "    plt.rcParams['font.size'] = 24\n",
    "    #display(HTML('<style>.container (width:100%,)'))\n",
    "    pd.options.display.max_columns = None\n",
    "    pd.options.display.max_rows= None\n",
    "    pd.set_option('display.expand_frame_repr', False)\n",
    "    sns.set()\n",
    "    \n",
    "def boxplot_analysis_quantitative(df,nrows,ncols):\n",
    "    fig, axs = plt.subplots(nrows, ncols, figsize=(30,20))\n",
    "    plt.subplots_adjust(left=0.1,bottom=0.1, right=0.9, top=0.9, wspace=0.4, hspace=0.4)\n",
    "\n",
    "def data_description(df):\n",
    "    print('Variables:\\n\\n{}'.format(df.dtypes), end='\\n\\n')\n",
    "    print('Number of rows {}'.format(df.shape[0]), end='\\n\\n')\n",
    "    print('Number of columns {}'.format(df.shape[1]), end='\\n\\n')\n",
    "    print('NA analysis'.format(end='\\n'))\n",
    "    for i in df.columns:\n",
    "        print('column {}: {} {}'.format(i,df[i].isna().any(), df[i].isna().sum()))"
   ]
  },
  {
   "cell_type": "markdown",
   "id": "a0be80dd",
   "metadata": {},
   "source": [
    "## Loading Data"
   ]
  },
  {
   "cell_type": "code",
   "execution_count": 2,
   "id": "f4f1a573",
   "metadata": {
    "ExecuteTime": {
     "end_time": "2022-06-27T10:59:34.118169Z",
     "start_time": "2022-06-27T10:59:33.430914Z"
    }
   },
   "outputs": [],
   "source": [
    "data_sales_raw = pd.read_csv('train.csv', low_memory=False)\n",
    "data_store_raw = pd.read_csv('store.csv', low_memory=False)\n",
    "\n",
    "#merge\n",
    "df_raw = pd.merge(data_sales_raw,data_store_raw, how='left', on='Store')"
   ]
  },
  {
   "cell_type": "markdown",
   "id": "5f1d1a54",
   "metadata": {},
   "source": [
    "# Data Description"
   ]
  },
  {
   "cell_type": "code",
   "execution_count": 5,
   "id": "e0ce942c",
   "metadata": {
    "ExecuteTime": {
     "end_time": "2022-06-27T10:59:50.159516Z",
     "start_time": "2022-06-27T10:59:50.018836Z"
    },
    "scrolled": true
   },
   "outputs": [],
   "source": [
    "df1 = df_raw.copy()"
   ]
  },
  {
   "cell_type": "code",
   "execution_count": 4,
   "id": "829446cf",
   "metadata": {
    "ExecuteTime": {
     "end_time": "2022-06-27T09:46:07.610752Z",
     "start_time": "2022-06-27T09:46:07.304632Z"
    }
   },
   "outputs": [
    {
     "name": "stdout",
     "output_type": "stream",
     "text": [
      "Variables:\n",
      "\n",
      "Store                          int64\n",
      "DayOfWeek                      int64\n",
      "Date                          object\n",
      "Sales                          int64\n",
      "Customers                      int64\n",
      "Open                           int64\n",
      "Promo                          int64\n",
      "StateHoliday                  object\n",
      "SchoolHoliday                  int64\n",
      "StoreType                     object\n",
      "Assortment                    object\n",
      "CompetitionDistance          float64\n",
      "CompetitionOpenSinceMonth    float64\n",
      "CompetitionOpenSinceYear     float64\n",
      "Promo2                         int64\n",
      "Promo2SinceWeek              float64\n",
      "Promo2SinceYear              float64\n",
      "PromoInterval                 object\n",
      "dtype: object\n",
      "\n",
      "Number of rows 1017209\n",
      "\n",
      "Number of columns 18\n",
      "\n",
      "NA analysis\n",
      "column Store: False 0\n",
      "column DayOfWeek: False 0\n",
      "column Date: False 0\n",
      "column Sales: False 0\n",
      "column Customers: False 0\n",
      "column Open: False 0\n",
      "column Promo: False 0\n",
      "column StateHoliday: False 0\n",
      "column SchoolHoliday: False 0\n",
      "column StoreType: False 0\n",
      "column Assortment: False 0\n",
      "column CompetitionDistance: True 2642\n",
      "column CompetitionOpenSinceMonth: True 323348\n",
      "column CompetitionOpenSinceYear: True 323348\n",
      "column Promo2: False 0\n",
      "column Promo2SinceWeek: True 508031\n",
      "column Promo2SinceYear: True 508031\n",
      "column PromoInterval: True 508031\n"
     ]
    }
   ],
   "source": [
    "data_description(df1)"
   ]
  },
  {
   "cell_type": "markdown",
   "id": "a645ec83",
   "metadata": {},
   "source": [
    "# Data Wrangling"
   ]
  },
  {
   "cell_type": "markdown",
   "id": "1ae8da03",
   "metadata": {},
   "source": [
    "## Renaming columns and defining columns types"
   ]
  },
  {
   "cell_type": "code",
   "execution_count": 7,
   "id": "f567c7a8",
   "metadata": {
    "ExecuteTime": {
     "end_time": "2022-06-27T11:00:05.563442Z",
     "start_time": "2022-06-27T11:00:05.484988Z"
    },
    "scrolled": true
   },
   "outputs": [],
   "source": [
    "cols_old = ['Store', 'DayOfWeek', 'Date', 'Sales', 'Customers', 'Open', 'Promo',\n",
    "       'StateHoliday', 'SchoolHoliday', 'StoreType', 'Assortment',\n",
    "       'CompetitionDistance', 'CompetitionOpenSinceMonth',\n",
    "       'CompetitionOpenSinceYear', 'Promo2', 'Promo2SinceWeek',\n",
    "       'Promo2SinceYear', 'PromoInterval']\n",
    "\n",
    "snakecase = lambda x: inflection.underscore(x)\n",
    "\n",
    "cols_new = list(map(snakecase, cols_old))\n",
    "\n",
    "df1.columns = cols_new\n",
    "\n",
    "df1['date'] = pd.to_datetime(df1['date'])"
   ]
  },
  {
   "cell_type": "markdown",
   "id": "d9880951",
   "metadata": {
    "ExecuteTime": {
     "end_time": "2022-06-27T09:49:28.766249Z",
     "start_time": "2022-06-27T09:49:28.763654Z"
    }
   },
   "source": [
    "## Fillout NAs"
   ]
  },
  {
   "cell_type": "code",
   "execution_count": 28,
   "id": "2cebf3c2",
   "metadata": {
    "ExecuteTime": {
     "end_time": "2022-06-27T12:17:22.145193Z",
     "start_time": "2022-06-27T12:16:36.480853Z"
    }
   },
   "outputs": [],
   "source": [
    "# CompetitionDistance\n",
    "df1['competition_distance'] = df1['competition_distance'].apply(lambda x: x if pd.notnull(x) else 200000)\n",
    "\n",
    "#competition_open_since_month\n",
    "df1['competition_open_since_month'] = df1.apply(lambda x: x['competition_open_since_month']  if pd.notnull(x['competition_open_since_month'])\n",
    "                                            else x['date'].month, axis=1) \n",
    "\n",
    "#competition_open_since_year\n",
    "df1['competition_open_since_year'] = df1.apply(lambda x: x['competition_open_since_year']  if pd.notnull(x['competition_open_since_year'])\n",
    "                                            else x['date'].year, axis=1) \n",
    "\n",
    "\n",
    "# Promo2SinceWeek \n",
    "df1['promo2_since_week'] = df1.apply(lambda x: x['promo2_since_week']  if pd.notnull(x['promo2_since_week'])\n",
    "                                            else x['date'].week, axis=1) \n",
    "\n",
    "# Promo2SinceYear\n",
    "df1['promo2_since_year'] = df1.apply(lambda x: x['promo2_since_year']  if pd.notnull(x['promo2_since_year'])\n",
    "                                            else x['date'].year, axis=1) \n",
    "\n",
    "\n",
    "# PromoInterval\n",
    "\n",
    "month_map ={1: 'Jan',2: 'Fev', 3: 'Mar', 4: 'Apr', 5: 'May', 6: 'Jun', 7: 'Jul', 8: 'Aug', 9: 'Set', 10: 'Oct', 11: 'Nov'\n",
    ",12: 'Dec'}\n",
    "df1['promo_interval'].fillna(0,inplace=True)\n",
    "df1['month_map'] = df1['date'].dt.month.map(month_map)\n",
    "\n",
    "df1['is_promo'] = df1[['promo_interval','month_map']].apply(lambda x: 0 if x['promo_interval'] == 0\n",
    "                                        else 1 if x['month_map'] in x['promo_interval'].split(',') else 0, axis=1)"
   ]
  },
  {
   "cell_type": "markdown",
   "id": "515ea9bf",
   "metadata": {},
   "source": [
    "## Change column types"
   ]
  },
  {
   "cell_type": "code",
   "execution_count": 32,
   "id": "c9fa5efd",
   "metadata": {
    "ExecuteTime": {
     "end_time": "2022-06-27T12:20:32.346580Z",
     "start_time": "2022-06-27T12:20:32.316131Z"
    }
   },
   "outputs": [],
   "source": [
    "df1['competition_open_since_month'] = df1['competition_open_since_month'].astype(int)\n",
    "df1['competition_open_since_year'] = df1['competition_open_since_year'].astype(int)\n",
    "df1['promo2_since_week'] = df1['promo2_since_week'].astype(int)\n",
    "df1['promo2_since_year'] = df1['promo2_since_year'].astype(int)"
   ]
  },
  {
   "cell_type": "markdown",
   "id": "1a06fd8d",
   "metadata": {},
   "source": [
    "## Descriptive Statistical"
   ]
  },
  {
   "cell_type": "markdown",
   "id": "d8f17da5",
   "metadata": {},
   "source": [
    "### Numerical Attributes"
   ]
  },
  {
   "cell_type": "code",
   "execution_count": 38,
   "id": "851e7a3f",
   "metadata": {
    "ExecuteTime": {
     "end_time": "2022-06-27T12:41:51.609321Z",
     "start_time": "2022-06-27T12:41:51.383027Z"
    },
    "scrolled": true
   },
   "outputs": [
    {
     "data": {
      "text/html": [
       "<div>\n",
       "<style scoped>\n",
       "    .dataframe tbody tr th:only-of-type {\n",
       "        vertical-align: middle;\n",
       "    }\n",
       "\n",
       "    .dataframe tbody tr th {\n",
       "        vertical-align: top;\n",
       "    }\n",
       "\n",
       "    .dataframe thead th {\n",
       "        text-align: right;\n",
       "    }\n",
       "</style>\n",
       "<table border=\"1\" class=\"dataframe\">\n",
       "  <thead>\n",
       "    <tr style=\"text-align: right;\">\n",
       "      <th></th>\n",
       "      <th>count</th>\n",
       "      <th>mean</th>\n",
       "      <th>std</th>\n",
       "      <th>min</th>\n",
       "      <th>25%</th>\n",
       "      <th>50%</th>\n",
       "      <th>75%</th>\n",
       "      <th>max</th>\n",
       "    </tr>\n",
       "  </thead>\n",
       "  <tbody>\n",
       "    <tr>\n",
       "      <th>store</th>\n",
       "      <td>1017209.00</td>\n",
       "      <td>558.43</td>\n",
       "      <td>321.91</td>\n",
       "      <td>1.00</td>\n",
       "      <td>280.00</td>\n",
       "      <td>558.00</td>\n",
       "      <td>838.00</td>\n",
       "      <td>1115.00</td>\n",
       "    </tr>\n",
       "    <tr>\n",
       "      <th>day_of_week</th>\n",
       "      <td>1017209.00</td>\n",
       "      <td>4.00</td>\n",
       "      <td>2.00</td>\n",
       "      <td>1.00</td>\n",
       "      <td>2.00</td>\n",
       "      <td>4.00</td>\n",
       "      <td>6.00</td>\n",
       "      <td>7.00</td>\n",
       "    </tr>\n",
       "    <tr>\n",
       "      <th>sales</th>\n",
       "      <td>1017209.00</td>\n",
       "      <td>5773.82</td>\n",
       "      <td>3849.93</td>\n",
       "      <td>0.00</td>\n",
       "      <td>3727.00</td>\n",
       "      <td>5744.00</td>\n",
       "      <td>7856.00</td>\n",
       "      <td>41551.00</td>\n",
       "    </tr>\n",
       "    <tr>\n",
       "      <th>customers</th>\n",
       "      <td>1017209.00</td>\n",
       "      <td>633.15</td>\n",
       "      <td>464.41</td>\n",
       "      <td>0.00</td>\n",
       "      <td>405.00</td>\n",
       "      <td>609.00</td>\n",
       "      <td>837.00</td>\n",
       "      <td>7388.00</td>\n",
       "    </tr>\n",
       "    <tr>\n",
       "      <th>open</th>\n",
       "      <td>1017209.00</td>\n",
       "      <td>0.83</td>\n",
       "      <td>0.38</td>\n",
       "      <td>0.00</td>\n",
       "      <td>1.00</td>\n",
       "      <td>1.00</td>\n",
       "      <td>1.00</td>\n",
       "      <td>1.00</td>\n",
       "    </tr>\n",
       "    <tr>\n",
       "      <th>promo</th>\n",
       "      <td>1017209.00</td>\n",
       "      <td>0.38</td>\n",
       "      <td>0.49</td>\n",
       "      <td>0.00</td>\n",
       "      <td>0.00</td>\n",
       "      <td>0.00</td>\n",
       "      <td>1.00</td>\n",
       "      <td>1.00</td>\n",
       "    </tr>\n",
       "    <tr>\n",
       "      <th>school_holiday</th>\n",
       "      <td>1017209.00</td>\n",
       "      <td>0.18</td>\n",
       "      <td>0.38</td>\n",
       "      <td>0.00</td>\n",
       "      <td>0.00</td>\n",
       "      <td>0.00</td>\n",
       "      <td>0.00</td>\n",
       "      <td>1.00</td>\n",
       "    </tr>\n",
       "    <tr>\n",
       "      <th>competition_distance</th>\n",
       "      <td>1017209.00</td>\n",
       "      <td>5935.44</td>\n",
       "      <td>12547.65</td>\n",
       "      <td>20.00</td>\n",
       "      <td>710.00</td>\n",
       "      <td>2330.00</td>\n",
       "      <td>6910.00</td>\n",
       "      <td>200000.00</td>\n",
       "    </tr>\n",
       "    <tr>\n",
       "      <th>competition_open_since_month</th>\n",
       "      <td>1017209.00</td>\n",
       "      <td>6.79</td>\n",
       "      <td>3.31</td>\n",
       "      <td>1.00</td>\n",
       "      <td>4.00</td>\n",
       "      <td>7.00</td>\n",
       "      <td>10.00</td>\n",
       "      <td>12.00</td>\n",
       "    </tr>\n",
       "    <tr>\n",
       "      <th>competition_open_since_year</th>\n",
       "      <td>1017209.00</td>\n",
       "      <td>2010.32</td>\n",
       "      <td>5.52</td>\n",
       "      <td>1900.00</td>\n",
       "      <td>2008.00</td>\n",
       "      <td>2012.00</td>\n",
       "      <td>2014.00</td>\n",
       "      <td>2015.00</td>\n",
       "    </tr>\n",
       "    <tr>\n",
       "      <th>promo2</th>\n",
       "      <td>1017209.00</td>\n",
       "      <td>0.50</td>\n",
       "      <td>0.50</td>\n",
       "      <td>0.00</td>\n",
       "      <td>0.00</td>\n",
       "      <td>1.00</td>\n",
       "      <td>1.00</td>\n",
       "      <td>1.00</td>\n",
       "    </tr>\n",
       "    <tr>\n",
       "      <th>promo2_since_week</th>\n",
       "      <td>1017209.00</td>\n",
       "      <td>23.62</td>\n",
       "      <td>14.31</td>\n",
       "      <td>1.00</td>\n",
       "      <td>12.00</td>\n",
       "      <td>22.00</td>\n",
       "      <td>37.00</td>\n",
       "      <td>52.00</td>\n",
       "    </tr>\n",
       "    <tr>\n",
       "      <th>promo2_since_year</th>\n",
       "      <td>1017209.00</td>\n",
       "      <td>2012.79</td>\n",
       "      <td>1.66</td>\n",
       "      <td>2009.00</td>\n",
       "      <td>2012.00</td>\n",
       "      <td>2013.00</td>\n",
       "      <td>2014.00</td>\n",
       "      <td>2015.00</td>\n",
       "    </tr>\n",
       "    <tr>\n",
       "      <th>is_promo</th>\n",
       "      <td>1017209.00</td>\n",
       "      <td>0.16</td>\n",
       "      <td>0.36</td>\n",
       "      <td>0.00</td>\n",
       "      <td>0.00</td>\n",
       "      <td>0.00</td>\n",
       "      <td>0.00</td>\n",
       "      <td>1.00</td>\n",
       "    </tr>\n",
       "  </tbody>\n",
       "</table>\n",
       "</div>"
      ],
      "text/plain": [
       "                                  count    mean      std     min     25%  \\\n",
       "store                        1017209.00  558.43   321.91    1.00  280.00   \n",
       "day_of_week                  1017209.00    4.00     2.00    1.00    2.00   \n",
       "sales                        1017209.00 5773.82  3849.93    0.00 3727.00   \n",
       "customers                    1017209.00  633.15   464.41    0.00  405.00   \n",
       "open                         1017209.00    0.83     0.38    0.00    1.00   \n",
       "promo                        1017209.00    0.38     0.49    0.00    0.00   \n",
       "school_holiday               1017209.00    0.18     0.38    0.00    0.00   \n",
       "competition_distance         1017209.00 5935.44 12547.65   20.00  710.00   \n",
       "competition_open_since_month 1017209.00    6.79     3.31    1.00    4.00   \n",
       "competition_open_since_year  1017209.00 2010.32     5.52 1900.00 2008.00   \n",
       "promo2                       1017209.00    0.50     0.50    0.00    0.00   \n",
       "promo2_since_week            1017209.00   23.62    14.31    1.00   12.00   \n",
       "promo2_since_year            1017209.00 2012.79     1.66 2009.00 2012.00   \n",
       "is_promo                     1017209.00    0.16     0.36    0.00    0.00   \n",
       "\n",
       "                                 50%     75%       max  \n",
       "store                         558.00  838.00   1115.00  \n",
       "day_of_week                     4.00    6.00      7.00  \n",
       "sales                        5744.00 7856.00  41551.00  \n",
       "customers                     609.00  837.00   7388.00  \n",
       "open                            1.00    1.00      1.00  \n",
       "promo                           0.00    1.00      1.00  \n",
       "school_holiday                  0.00    0.00      1.00  \n",
       "competition_distance         2330.00 6910.00 200000.00  \n",
       "competition_open_since_month    7.00   10.00     12.00  \n",
       "competition_open_since_year  2012.00 2014.00   2015.00  \n",
       "promo2                          1.00    1.00      1.00  \n",
       "promo2_since_week              22.00   37.00     52.00  \n",
       "promo2_since_year            2013.00 2014.00   2015.00  \n",
       "is_promo                        0.00    0.00      1.00  "
      ]
     },
     "execution_count": 38,
     "metadata": {},
     "output_type": "execute_result"
    }
   ],
   "source": [
    "df1.select_dtypes(include=['int64','float64']).describe().T"
   ]
  },
  {
   "cell_type": "markdown",
   "id": "3c540c40",
   "metadata": {},
   "source": [
    "### Categorical Analysis"
   ]
  },
  {
   "cell_type": "code",
   "execution_count": 65,
   "id": "344ecde3",
   "metadata": {
    "ExecuteTime": {
     "end_time": "2022-06-27T13:19:54.656828Z",
     "start_time": "2022-06-27T13:19:54.417454Z"
    }
   },
   "outputs": [
    {
     "data": {
      "image/png": "[encoded data removed]",
      "text/plain": [
       "<Figure size 1080x576 with 3 Axes>"
      ]
     },
     "metadata": {},
     "output_type": "display_data"
    }
   ],
   "source": [
    "aux1 = df1[(df1['state_holiday'] != '0') & (df1['sales'] > 0)]\n",
    "fig = plt.figure(figsize=(15,8))\n",
    "plt.subplot(1,3,1)\n",
    "sns.boxplot(x='state_holiday', y='sales', data=aux1 );\n",
    "\n",
    "plt.subplot(1,3,2)\n",
    "sns.boxplot(x='store_type', y='sales', data=aux1 );\n",
    "\n",
    "plt.subplot(1,3,3)\n",
    "sns.boxplot(x='assortment', y='sales', data=aux1 );"
   ]
  }
 ],
 "metadata": {
  "kernelspec": {
   "display_name": "Python 3 (ipykernel)",
   "language": "python",
   "name": "python3"
  },
  "language_info": {
   "codemirror_mode": {
    "name": "ipython",
    "version": 3
   },
   "file_extension": ".py",
   "mimetype": "text/x-python",
   "name": "python",
   "nbconvert_exporter": "python",
   "pygments_lexer": "ipython3",
   "version": "3.9.12"
  },
  "toc": {
   "base_numbering": 1,
   "nav_menu": {},
   "number_sections": true,
   "sideBar": true,
   "skip_h1_title": false,
   "title_cell": "Table of Contents",
   "title_sidebar": "Contents",
   "toc_cell": false,
   "toc_position": {},
   "toc_section_display": true,
   "toc_window_display": false
  },
  "varInspector": {
   "cols": {
    "lenName": 16,
    "lenType": 16,
    "lenVar": 40
   },
   "kernels_config": {
    "python": {
     "delete_cmd_postfix": "",
     "delete_cmd_prefix": "del ",
     "library": "var_list.py",
     "varRefreshCmd": "print(var_dic_list())"
    },
    "r": {
     "delete_cmd_postfix": ") ",
     "delete_cmd_prefix": "rm(",
     "library": "var_list.r",
     "varRefreshCmd": "cat(var_dic_list()) "
    }
   },
   "types_to_exclude": [
    "module",
    "function",
    "builtin_function_or_method",
    "instance",
    "_Feature"
   ],
   "window_display": false
  }
 },
 "nbformat": 4,
 "nbformat_minor": 5
}
