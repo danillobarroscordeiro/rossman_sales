{
 "cells": [
  {
   "cell_type": "markdown",
   "id": "e96b4fd4",
   "metadata": {},
   "source": [
    "# Imports"
   ]
  },
  {
   "cell_type": "markdown",
   "id": "4917064f",
   "metadata": {
    "ExecuteTime": {
     "end_time": "2022-06-25T18:08:17.145684Z",
     "start_time": "2022-06-25T18:08:17.142763Z"
    }
   },
   "source": [
    "## Helper Functions"
   ]
  },
  {
   "cell_type": "code",
   "execution_count": 2,
   "id": "aa7778c2",
   "metadata": {
    "ExecuteTime": {
     "end_time": "2022-06-26T15:55:04.899458Z",
     "start_time": "2022-06-26T15:55:04.621711Z"
    }
   },
   "outputs": [],
   "source": [
    "import pandas as pd\n",
    "import numpy as np\n",
    "import os\n",
    "import inflection\n",
    "\n",
    "def data_description(df):\n",
    "    print('Variables:\\n\\n{}'.format(df.dtypes), end='\\n\\n')\n",
    "    print('Number of rows {}'.format(df.shape[0]), end='\\n\\n')\n",
    "    print('Number of columns {}'.format(df.shape[1]), end='\\n\\n')\n",
    "    print('NA analysis'.format(end='\\n'))\n",
    "    for i in df.columns:\n",
    "        print('column {}: {} {}'.format(i,df[i].isna().any(), df[i].isna().sum()))"
   ]
  },
  {
   "cell_type": "markdown",
   "id": "a0be80dd",
   "metadata": {},
   "source": [
    "## Loading Data"
   ]
  },
  {
   "cell_type": "code",
   "execution_count": 18,
   "id": "f4f1a573",
   "metadata": {
    "ExecuteTime": {
     "end_time": "2022-06-25T18:12:23.656608Z",
     "start_time": "2022-06-25T18:12:23.051265Z"
    }
   },
   "outputs": [],
   "source": [
    "data_sales_raw = pd.read_csv('train.csv', low_memory=False)\n",
    "data_store_raw = pd.read_csv('store.csv', low_memory=False)\n",
    "\n",
    "#merge\n",
    "df_raw = pd.merge(data_sales_raw,data_store_raw, how='left', on='Store')"
   ]
  },
  {
   "cell_type": "markdown",
   "id": "5f1d1a54",
   "metadata": {},
   "source": [
    "# Data Description"
   ]
  },
  {
   "cell_type": "code",
   "execution_count": 1,
   "id": "e0ce942c",
   "metadata": {
    "ExecuteTime": {
     "end_time": "2022-06-26T15:53:31.664543Z",
     "start_time": "2022-06-26T15:53:31.329537Z"
    }
   },
   "outputs": [
    {
     "ename": "NameError",
     "evalue": "name 'df_raw' is not defined",
     "output_type": "error",
     "traceback": [
      "\u001b[0;31m---------------------------------------------------------------------------\u001b[0m",
      "\u001b[0;31mNameError\u001b[0m                                 Traceback (most recent call last)",
      "Input \u001b[0;32mIn [1]\u001b[0m, in \u001b[0;36m<cell line: 1>\u001b[0;34m()\u001b[0m\n\u001b[0;32m----> 1\u001b[0m df1 \u001b[38;5;241m=\u001b[39m \u001b[43mdf_raw\u001b[49m\u001b[38;5;241m.\u001b[39mcopy()\n",
      "\u001b[0;31mNameError\u001b[0m: name 'df_raw' is not defined"
     ]
    }
   ],
   "source": [
    "df1 = df_raw.copy()"
   ]
  },
  {
   "cell_type": "code",
   "execution_count": 29,
   "id": "829446cf",
   "metadata": {
    "ExecuteTime": {
     "end_time": "2022-06-25T18:23:49.451845Z",
     "start_time": "2022-06-25T18:23:49.138271Z"
    }
   },
   "outputs": [
    {
     "name": "stdout",
     "output_type": "stream",
     "text": [
      "Variables:\n",
      "\n",
      "store                             int64\n",
      "day_of_week                       int64\n",
      "date                             object\n",
      "sales                             int64\n",
      "customers                         int64\n",
      "open                              int64\n",
      "promo                             int64\n",
      "state_holiday                    object\n",
      "school_holiday                    int64\n",
      "store_type                       object\n",
      "assortment                       object\n",
      "competition_distance            float64\n",
      "competition_open_since_month    float64\n",
      "competition_open_since_year     float64\n",
      "promo2                            int64\n",
      "promo2_since_week               float64\n",
      "promo2_since_year               float64\n",
      "promo_interval                   object\n",
      "dtype: object\n",
      "\n",
      "Number of rows 1017209\n",
      "\n",
      "Number of columns 18\n",
      "\n",
      "NA analysis\n",
      "column store: False 0\n",
      "column day_of_week: False 0\n",
      "column date: False 0\n",
      "column sales: False 0\n",
      "column customers: False 0\n",
      "column open: False 0\n",
      "column promo: False 0\n",
      "column state_holiday: False 0\n",
      "column school_holiday: False 0\n",
      "column store_type: False 0\n",
      "column assortment: False 0\n",
      "column competition_distance: True 2642\n",
      "column competition_open_since_month: True 323348\n",
      "column competition_open_since_year: True 323348\n",
      "column promo2: False 0\n",
      "column promo2_since_week: True 508031\n",
      "column promo2_since_year: True 508031\n",
      "column promo_interval: True 508031\n"
     ]
    }
   ],
   "source": [
    "data_description(df1)"
   ]
  },
  {
   "cell_type": "code",
   "execution_count": 26,
   "id": "038c4acd",
   "metadata": {
    "ExecuteTime": {
     "end_time": "2022-06-25T18:19:40.242472Z",
     "start_time": "2022-06-25T18:19:40.238086Z"
    },
    "scrolled": true
   },
   "outputs": [],
   "source": [
    "cols_old = ['Store', 'DayOfWeek', 'Date', 'Sales', 'Customers', 'Open', 'Promo',\n",
    "       'StateHoliday', 'SchoolHoliday', 'StoreType', 'Assortment',\n",
    "       'CompetitionDistance', 'CompetitionOpenSinceMonth',\n",
    "       'CompetitionOpenSinceYear', 'Promo2', 'Promo2SinceWeek',\n",
    "       'Promo2SinceYear', 'PromoInterval']\n",
    "\n",
    "snakecase = lambda x: inflection.underscore(x)\n",
    "\n",
    "cols_new = list(map(snakecase, cols_old))\n",
    "\n",
    "df1.columns = cols_new"
   ]
  }
 ],
 "metadata": {
  "kernelspec": {
   "display_name": "Python 3 (ipykernel)",
   "language": "python",
   "name": "python3"
  },
  "language_info": {
   "codemirror_mode": {
    "name": "ipython",
    "version": 3
   },
   "file_extension": ".py",
   "mimetype": "text/x-python",
   "name": "python",
   "nbconvert_exporter": "python",
   "pygments_lexer": "ipython3",
   "version": "3.9.12"
  },
  "toc": {
   "base_numbering": 1,
   "nav_menu": {},
   "number_sections": true,
   "sideBar": true,
   "skip_h1_title": false,
   "title_cell": "Table of Contents",
   "title_sidebar": "Contents",
   "toc_cell": false,
   "toc_position": {},
   "toc_section_display": true,
   "toc_window_display": false
  },
  "varInspector": {
   "cols": {
    "lenName": 16,
    "lenType": 16,
    "lenVar": 40
   },
   "kernels_config": {
    "python": {
     "delete_cmd_postfix": "",
     "delete_cmd_prefix": "del ",
     "library": "var_list.py",
     "varRefreshCmd": "print(var_dic_list())"
    },
    "r": {
     "delete_cmd_postfix": ") ",
     "delete_cmd_prefix": "rm(",
     "library": "var_list.r",
     "varRefreshCmd": "cat(var_dic_list()) "
    }
   },
   "types_to_exclude": [
    "module",
    "function",
    "builtin_function_or_method",
    "instance",
    "_Feature"
   ],
   "window_display": false
  }
 },
 "nbformat": 4,
 "nbformat_minor": 5
}
